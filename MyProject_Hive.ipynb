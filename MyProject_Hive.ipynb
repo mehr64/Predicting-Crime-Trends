{
  "nbformat": 4,
  "nbformat_minor": 0,
  "metadata": {
    "colab": {
      "provenance": [],
      "authorship_tag": "ABX9TyOqWXEidBsbj/8YRRPgyoOR",
      "include_colab_link": true
    },
    "kernelspec": {
      "name": "python3",
      "display_name": "Python 3"
    },
    "language_info": {
      "name": "python"
    }
  },
  "cells": [
    {
      "cell_type": "markdown",
      "metadata": {
        "id": "view-in-github",
        "colab_type": "text"
      },
      "source": [
        "<a href=\"https://colab.research.google.com/github/mehr64/Predicting-Crime-Trends/blob/main/MyProject_Hive.ipynb\" target=\"_parent\"><img src=\"https://colab.research.google.com/assets/colab-badge.svg\" alt=\"Open In Colab\"/></a>"
      ]
    },
    {
      "cell_type": "code",
      "execution_count": null,
      "metadata": {
        "id": "x1GC5eyP7Xlg"
      },
      "outputs": [],
      "source": [
        "!apt-get install openjdk-8-jdk-headless -qq > /dev/null\n",
        "!wget -q http://archive.apache.org/dist/spark/spark-3.1.1/spark-3.1.1-bin-hadoop3.2.tgz\n",
        "!tar xf spark-3.1.1-bin-hadoop3.2.tgz\n",
        "!pip install -q findspark"
      ]
    },
    {
      "cell_type": "code",
      "source": [
        "import os\n",
        "os.environ[\"JAVA_HOME\"] = \"/usr/lib/jvm/java-8-openjdk-amd64\"\n",
        "os.environ[\"SPARK_HOME\"] = \"/content/spark-3.1.1-bin-hadoop3.2\""
      ],
      "metadata": {
        "id": "bxE2BORC7bPi"
      },
      "execution_count": null,
      "outputs": []
    },
    {
      "cell_type": "code",
      "source": [
        "import findspark\n",
        "findspark.init()\n",
        "from pyspark.sql import SparkSession\n",
        "spark = SparkSession.builder.master(\"local[*]\").getOrCreate()\n",
        "spark.conf.set(\"spark.sql.repl.eagerEval.enabled\", True) # Property used to format output tables better"
      ],
      "metadata": {
        "id": "WEUIZG_X7bk0"
      },
      "execution_count": null,
      "outputs": []
    },
    {
      "cell_type": "code",
      "source": [
        "from pyspark.sql import SparkSession\n",
        "spark = SparkSession.builder.appName(\"Crime Analysis\").getOrCreate()\n",
        "df = spark.read.csv(\"/content/sample_data/cleaned_data.csv\", header=True, inferSchema=True)"
      ],
      "metadata": {
        "id": "crbnHnQD8CGR"
      },
      "execution_count": null,
      "outputs": []
    },
    {
      "cell_type": "code",
      "source": [
        "#Examine the overall changes in the number of crimes in different quarters (Financial Quarter and Number of Offences).\n",
        "from pyspark.sql.functions import col\n",
        "\n",
        "df.groupBy(\"Financial Quarter\").sum(\"Number of Offences\").orderBy(\"sum(Number of Offences)\", ascending=False).show()"
      ],
      "metadata": {
        "colab": {
          "base_uri": "https://localhost:8080/"
        },
        "id": "ODZV2hLE7b58",
        "outputId": "06a7977b-0ef2-46d5-fbc7-91ab0a3bf530"
      },
      "execution_count": null,
      "outputs": [
        {
          "output_type": "stream",
          "name": "stdout",
          "text": [
            "+-----------------+-----------------------+\n",
            "|Financial Quarter|sum(Number of Offences)|\n",
            "+-----------------+-----------------------+\n",
            "|                1|                6459000|\n",
            "|                2|                5397100|\n",
            "|                3|                5154518|\n",
            "|                4|                4983585|\n",
            "+-----------------+-----------------------+\n",
            "\n"
          ]
        }
      ]
    },
    {
      "cell_type": "markdown",
      "source": [
        " 1.How do crime rates vary across different financial quarters?"
      ],
      "metadata": {
        "id": "hH2t58yXCDWP"
      }
    },
    {
      "cell_type": "code",
      "source": [
        "from pyspark.sql import SparkSession\n",
        "from pyspark.sql.functions import col, sum\n",
        "\n",
        "# Initialize Spark Session\n",
        "spark = SparkSession.builder \\\n",
        "    .appName(\"Crime Analysis\") \\\n",
        "    .enableHiveSupport() \\\n",
        "    .getOrCreate()\n",
        "\n",
        "df = spark.read.csv(\"/content/sample_data/cleaned_data.csv\", header=True, inferSchema=True)\n",
        "\n",
        "# Group by \"Financial Quarter\" and sum \"Number of Offences\"\n",
        "df_summed = df.groupBy(\"Financial Quarter\").agg(sum(\"Number of Offences\").alias(\"total_offences\"))\n",
        "\n",
        "# Order by the sum of \"Number of Offences\" in descending order\n",
        "df_summed_ordered = df_summed.orderBy(col(\"total_offences\"), ascending=False)\n",
        "\n",
        "# Show the result\n",
        "df_summed_ordered.show()\n",
        "\n",
        "# Stop the Spark session\n",
        "spark.stop()"
      ],
      "metadata": {
        "colab": {
          "base_uri": "https://localhost:8080/"
        },
        "id": "dQqb522N7vGS",
        "outputId": "4fffd8ea-0fea-470b-ec0b-f0c2495e7295"
      },
      "execution_count": null,
      "outputs": [
        {
          "output_type": "stream",
          "name": "stdout",
          "text": [
            "+-----------------+--------------+\n",
            "|Financial Quarter|total_offences|\n",
            "+-----------------+--------------+\n",
            "|                1|       6459000|\n",
            "|                2|       5397100|\n",
            "|                3|       5154518|\n",
            "|                4|       4983585|\n",
            "+-----------------+--------------+\n",
            "\n"
          ]
        }
      ]
    },
    {
      "cell_type": "markdown",
      "source": [
        "2.Which police force areas have seen the biggest shifts in crime rates over the course of\n",
        "various fiscal quarters?\n"
      ],
      "metadata": {
        "id": "CTU7zzi4Ca49"
      }
    },
    {
      "cell_type": "code",
      "source": [
        "from pyspark.sql import SparkSession\n",
        "from pyspark.sql.functions import col, sum\n",
        "\n",
        "# Initialize Spark Session\n",
        "spark = SparkSession.builder \\\n",
        "    .appName(\"Crime Analysis\") \\\n",
        "    .enableHiveSupport() \\\n",
        "    .getOrCreate()\n",
        "\n",
        "df = spark.read.csv(\"/content/sample_data/cleaned_data.csv\", header=True, inferSchema=True)\n",
        "\n",
        "# Group by \"Financial Quarter\" and \"Force Name\", and sum \"Number of Offences\"\n",
        "df_summed = df.groupBy(\"Financial Quarter\", \"Force Name\").agg(sum(\"Number of Offences\").alias(\"total_offences\"))\n",
        "\n",
        "# Order the results by \"Financial Quarter\" and the sum of \"Number of Offences\" in descending order\n",
        "df_summed_ordered = df_summed.orderBy(\"Financial Quarter\", col(\"total_offences\"), ascending=False)\n",
        "\n",
        "# Show the result\n",
        "df_summed_ordered.show()\n",
        "\n",
        "# Stop the Spark session\n",
        "spark.stop()"
      ],
      "metadata": {
        "colab": {
          "base_uri": "https://localhost:8080/"
        },
        "id": "DDveo0KpCLKH",
        "outputId": "b42957c3-ff29-4131-e837-81d5da9a388d"
      },
      "execution_count": null,
      "outputs": [
        {
          "output_type": "stream",
          "name": "stdout",
          "text": [
            "+-----------------+-------------------+--------------+\n",
            "|Financial Quarter|         Force Name|total_offences|\n",
            "+-----------------+-------------------+--------------+\n",
            "|                4|Metropolitan Police|        812573|\n",
            "|                4| Greater Manchester|        322915|\n",
            "|                4|      West Midlands|        319177|\n",
            "|                4|     West Yorkshire|        280508|\n",
            "|                4|               Kent|        166679|\n",
            "|                4|      Thames Valley|        163953|\n",
            "|                4|          Hampshire|        155365|\n",
            "|                4|              Essex|        153834|\n",
            "|                4|         Merseyside|        147251|\n",
            "|                4|    South Yorkshire|        144707|\n",
            "|                4|        Northumbria|        135237|\n",
            "|                4|  Avon and Somerset|        129948|\n",
            "|                4|         Lancashire|        125331|\n",
            "|                4|             Sussex|        114299|\n",
            "|                4|        South Wales|         99271|\n",
            "|                4|    Nottinghamshire|         97465|\n",
            "|                4|     Leicestershire|         94445|\n",
            "|                4|         Humberside|         92667|\n",
            "|                4| Devon and Cornwall|         91325|\n",
            "|                4|           Cheshire|         84718|\n",
            "+-----------------+-------------------+--------------+\n",
            "only showing top 20 rows\n",
            "\n"
          ]
        }
      ]
    }
  ]
}