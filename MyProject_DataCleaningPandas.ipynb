{
  "nbformat": 4,
  "nbformat_minor": 0,
  "metadata": {
    "colab": {
      "provenance": [],
      "authorship_tag": "ABX9TyO0Vgl7VSa/AhabHmKCkRz8",
      "include_colab_link": true
    },
    "kernelspec": {
      "name": "python3",
      "display_name": "Python 3"
    },
    "language_info": {
      "name": "python"
    }
  },
  "cells": [
    {
      "cell_type": "markdown",
      "metadata": {
        "id": "view-in-github",
        "colab_type": "text"
      },
      "source": [
        "<a href=\"https://colab.research.google.com/github/mehr64/Predicting-Crime-Trends/blob/main/MyProject_DataCleaningPandas.ipynb\" target=\"_parent\"><img src=\"https://colab.research.google.com/assets/colab-badge.svg\" alt=\"Open In Colab\"/></a>"
      ]
    },
    {
      "cell_type": "code",
      "execution_count": null,
      "metadata": {
        "colab": {
          "base_uri": "https://localhost:8080/"
        },
        "id": "Miit-WBAvJCm",
        "outputId": "5edcb51a-1149-45e9-89b8-adfae428b011"
      },
      "outputs": [
        {
          "output_type": "stream",
          "name": "stdout",
          "text": [
            "Requirement already satisfied: pandas in /usr/local/lib/python3.10/dist-packages (1.5.3)\n",
            "Requirement already satisfied: scikit-learn in /usr/local/lib/python3.10/dist-packages (1.2.2)\n",
            "Requirement already satisfied: python-dateutil>=2.8.1 in /usr/local/lib/python3.10/dist-packages (from pandas) (2.8.2)\n",
            "Requirement already satisfied: pytz>=2020.1 in /usr/local/lib/python3.10/dist-packages (from pandas) (2023.3.post1)\n",
            "Requirement already satisfied: numpy>=1.21.0 in /usr/local/lib/python3.10/dist-packages (from pandas) (1.23.5)\n",
            "Requirement already satisfied: scipy>=1.3.2 in /usr/local/lib/python3.10/dist-packages (from scikit-learn) (1.11.4)\n",
            "Requirement already satisfied: joblib>=1.1.1 in /usr/local/lib/python3.10/dist-packages (from scikit-learn) (1.3.2)\n",
            "Requirement already satisfied: threadpoolctl>=2.0.0 in /usr/local/lib/python3.10/dist-packages (from scikit-learn) (3.2.0)\n",
            "Requirement already satisfied: six>=1.5 in /usr/local/lib/python3.10/dist-packages (from python-dateutil>=2.8.1->pandas) (1.16.0)\n"
          ]
        }
      ],
      "source": [
        "pip install pandas scikit-learn"
      ]
    },
    {
      "cell_type": "code",
      "source": [
        "import pandas as pd;\n",
        "df = pd.read_csv('/content/sample_data/CrimeData.csv')"
      ],
      "metadata": {
        "colab": {
          "base_uri": "https://localhost:8080/"
        },
        "id": "mTO8-mlZv46t",
        "outputId": "e7e165d6-e43f-4801-f979-8e5a0eab6f06"
      },
      "execution_count": null,
      "outputs": [
        {
          "output_type": "stream",
          "name": "stderr",
          "text": [
            "<ipython-input-2-61eb101296d2>:2: DtypeWarning: Columns (7) have mixed types. Specify dtype option on import or set low_memory=False.\n",
            "  df = pd.read_csv('/content/sample_data/CrimeData.csv')\n"
          ]
        }
      ]
    },
    {
      "cell_type": "code",
      "source": [
        "print(df.isnull().sum())"
      ],
      "metadata": {
        "colab": {
          "base_uri": "https://localhost:8080/"
        },
        "id": "sBUSC8EyxXJS",
        "outputId": "c5f12570-2571-4e4e-b0fd-4ec8f8c6d9b4"
      },
      "execution_count": null,
      "outputs": [
        {
          "output_type": "stream",
          "name": "stdout",
          "text": [
            "Financial Year         0\n",
            "Financial Quarter      0\n",
            "Force Name             0\n",
            "Offence Description    0\n",
            "Offence Group          0\n",
            "Offence Subgroup       0\n",
            "Offence Code           0\n",
            "Number of Offences     0\n",
            "dtype: int64\n"
          ]
        }
      ]
    },
    {
      "cell_type": "code",
      "source": [
        "import pandas as pd\n",
        "\n",
        "# Load the dataset\n",
        "df = pd.read_csv('/content/sample_data/CrimeData.csv')\n",
        "\n",
        "# Find duplicate rows based on all columns\n",
        "duplicate_rows_all = df[df.duplicated()]\n",
        "count_duplicates_all = duplicate_rows_all.shape[0]\n",
        "\n",
        "# Find duplicate rows based on specific columns\n",
        "columns_to_check = ['Financial Year', 'Financial Quarter', 'Force Name', 'Offence Description']\n",
        "duplicate_rows_specific = df[df.duplicated(subset=columns_to_check)]\n",
        "count_duplicates_specific = duplicate_rows_specific.shape[0]\n",
        "\n",
        "# Print out the results\n",
        "print(f\"Total Duplicate Rows (All Columns): {count_duplicates_all}\")\n",
        "print(duplicate_rows_all)\n",
        "\n",
        "print(f\"Total Duplicate Rows (Specific Columns): {count_duplicates_specific}\")\n",
        "print(duplicate_rows_specific)\n"
      ],
      "metadata": {
        "colab": {
          "base_uri": "https://localhost:8080/"
        },
        "id": "X4yvzS6K0Ldn",
        "outputId": "5dfafbe2-304c-4035-c823-d4cdeb4bb5fa"
      },
      "execution_count": null,
      "outputs": [
        {
          "output_type": "stream",
          "name": "stdout",
          "text": [
            "Total Duplicate Rows (All Columns): 0\n",
            "Empty DataFrame\n",
            "Columns: [Financial Year, Financial Quarter, Force Name, Offence Description, Offence Group, Offence Subgroup, Offence Code, Number of Offences]\n",
            "Index: []\n",
            "Total Duplicate Rows (Specific Columns): 0\n",
            "Empty DataFrame\n",
            "Columns: [Financial Year, Financial Quarter, Force Name, Offence Description, Offence Group, Offence Subgroup, Offence Code, Number of Offences]\n",
            "Index: []\n"
          ]
        },
        {
          "output_type": "stream",
          "name": "stderr",
          "text": [
            "<ipython-input-4-790198b7ad0e>:4: DtypeWarning: Columns (7) have mixed types. Specify dtype option on import or set low_memory=False.\n",
            "  df = pd.read_csv('/content/sample_data/CrimeData.csv')\n"
          ]
        }
      ]
    },
    {
      "cell_type": "code",
      "source": [
        "print(df.dtypes)"
      ],
      "metadata": {
        "colab": {
          "base_uri": "https://localhost:8080/"
        },
        "id": "JybjUAUS0Yo9",
        "outputId": "a049f604-0c10-4ea8-c710-c55a82b557b5"
      },
      "execution_count": null,
      "outputs": [
        {
          "output_type": "stream",
          "name": "stdout",
          "text": [
            "Financial Year         object\n",
            "Financial Quarter       int64\n",
            "Force Name             object\n",
            "Offence Description    object\n",
            "Offence Group          object\n",
            "Offence Subgroup       object\n",
            "Offence Code           object\n",
            "Number of Offences     object\n",
            "dtype: object\n"
          ]
        }
      ]
    },
    {
      "cell_type": "code",
      "source": [
        "import pandas as pd\n",
        "\n",
        "# Load the dataset\n",
        "df = pd.read_csv('/content/sample_data/CrimeData.csv')\n",
        "\n",
        "# Function to count values with leading or trailing spaces in a column\n",
        "def count_leading_trailing_spaces(column):\n",
        "    if df[column].dtype == 'object':\n",
        "        # Convert to string and count values with leading/trailing spaces\n",
        "        return df[column].astype(str).str.contains(r'^\\s+|\\s+$', regex=True).sum()\n",
        "    else:\n",
        "        # If not an object (string) type, return 0\n",
        "        return 0\n",
        "\n",
        "# Apply the function to each column and print the counts\n",
        "for col in df.columns:\n",
        "    count = count_leading_trailing_spaces(col)\n",
        "    print(f\"Column '{col}' has {count} values with leading or trailing spaces.\")\n"
      ],
      "metadata": {
        "colab": {
          "base_uri": "https://localhost:8080/"
        },
        "id": "iel6eT8R08pt",
        "outputId": "ce25c541-a638-437c-e4ea-45652cd0347a"
      },
      "execution_count": null,
      "outputs": [
        {
          "output_type": "stream",
          "name": "stderr",
          "text": [
            "<ipython-input-7-92c181b9b5e8>:4: DtypeWarning: Columns (7) have mixed types. Specify dtype option on import or set low_memory=False.\n",
            "  df = pd.read_csv('/content/sample_data/CrimeData.csv')\n"
          ]
        },
        {
          "output_type": "stream",
          "name": "stdout",
          "text": [
            "Column 'Financial Year' has 0 values with leading or trailing spaces.\n",
            "Column 'Financial Quarter' has 0 values with leading or trailing spaces.\n",
            "Column 'Force Name' has 0 values with leading or trailing spaces.\n",
            "Column 'Offence Description' has 0 values with leading or trailing spaces.\n",
            "Column 'Offence Group' has 0 values with leading or trailing spaces.\n",
            "Column 'Offence Subgroup' has 0 values with leading or trailing spaces.\n",
            "Column 'Offence Code' has 0 values with leading or trailing spaces.\n",
            "Column 'Number of Offences' has 1313 values with leading or trailing spaces.\n"
          ]
        }
      ]
    },
    {
      "cell_type": "code",
      "source": [
        "# Count Non-numeric Values\n",
        "non_numeric_before = df['Number of Offences'].apply(lambda x: isinstance(x, str))\n",
        "print(\"Number of non-numeric values before conversion:\", non_numeric_before.sum())\n",
        "print(\"Unique non-numeric values:\", df['Number of Offences'][non_numeric_before].unique())\n"
      ],
      "metadata": {
        "colab": {
          "base_uri": "https://localhost:8080/"
        },
        "id": "ZcK7o1e21ajA",
        "outputId": "4e3e5232-faf4-417e-d4c2-7445fd692dae"
      },
      "execution_count": null,
      "outputs": [
        {
          "output_type": "stream",
          "name": "stdout",
          "text": [
            "Number of non-numeric values before conversion: 65536\n",
            "Unique non-numeric values: ['9' '5' '0' ... '2084' '1768' '1996']\n"
          ]
        }
      ]
    },
    {
      "cell_type": "code",
      "source": [
        "# Count NaN Values\n",
        "nan_count_before = df['Number of Offences'].isna().sum()\n",
        "print(\"Number of NaN values before conversion:\", nan_count_before)\n"
      ],
      "metadata": {
        "colab": {
          "base_uri": "https://localhost:8080/"
        },
        "id": "PHd8VpYf1vzS",
        "outputId": "aa515c01-8ea2-47ef-d74e-ffe8f9764e57"
      },
      "execution_count": null,
      "outputs": [
        {
          "output_type": "stream",
          "name": "stdout",
          "text": [
            "Number of NaN values before conversion: 0\n"
          ]
        }
      ]
    },
    {
      "cell_type": "code",
      "source": [
        "import pandas as pd\n",
        "\n",
        "# Load the dataset\n",
        "df = pd.read_csv('/content/sample_data/CrimeData.csv')\n",
        "\n",
        "# Strip leading and trailing spaces from the specified column\n",
        "df['Number of Offences'] = df['Number of Offences'].str.strip()\n",
        "\n",
        "# Optional: Save the cleaned data\n",
        "# df.to_csv('cleaned_data.csv', index=False)\n"
      ],
      "metadata": {
        "colab": {
          "base_uri": "https://localhost:8080/"
        },
        "id": "b6SKSJ7e2S_7",
        "outputId": "3c0003b5-cc52-4689-96d6-3fc7ddbcb964"
      },
      "execution_count": null,
      "outputs": [
        {
          "output_type": "stream",
          "name": "stderr",
          "text": [
            "<ipython-input-10-2462bed45977>:4: DtypeWarning: Columns (7) have mixed types. Specify dtype option on import or set low_memory=False.\n",
            "  df = pd.read_csv('/content/sample_data/CrimeData.csv')\n"
          ]
        }
      ]
    },
    {
      "cell_type": "code",
      "source": [
        "\n",
        "# Count Non-numeric Values\n",
        "non_numeric_before = df['Number of Offences'].apply(lambda x: isinstance(x, str))\n",
        "print(\"Number of non-numeric values before conversion:\", non_numeric_before.sum())\n",
        "print(\"Unique non-numeric values:\", df['Number of Offences'][non_numeric_before].unique())\n"
      ],
      "metadata": {
        "colab": {
          "base_uri": "https://localhost:8080/"
        },
        "id": "1XWGOIjN2Ygd",
        "outputId": "a319ed0a-2c81-463c-f5a8-d1144ce0c0f3"
      },
      "execution_count": null,
      "outputs": [
        {
          "output_type": "stream",
          "name": "stdout",
          "text": [
            "Number of non-numeric values before conversion: 65536\n",
            "Unique non-numeric values: ['9' '5' '0' ... '2084' '1768' '1996']\n"
          ]
        }
      ]
    },
    {
      "cell_type": "code",
      "source": [
        "# Count NaN Values\n",
        "nan_count_before = df['Number of Offences'].isna().sum()\n",
        "print(\"Number of NaN values before conversion:\", nan_count_before)"
      ],
      "metadata": {
        "colab": {
          "base_uri": "https://localhost:8080/"
        },
        "id": "G_pJ2F-U2drT",
        "outputId": "3c9d59cb-2c1f-42c5-a655-5cbfffc20ad8"
      },
      "execution_count": null,
      "outputs": [
        {
          "output_type": "stream",
          "name": "stdout",
          "text": [
            "Number of NaN values before conversion: 33241\n"
          ]
        }
      ]
    },
    {
      "cell_type": "code",
      "source": [
        "import pandas as pd\n",
        "\n",
        "# Load the dataset\n",
        "df = pd.read_csv('/content/sample_data/CrimeData.csv')\n",
        "\n",
        "# Strip leading and trailing spaces from the specified column\n",
        "df['Number of Offences'] = df['Number of Offences'].astype(str)\n"
      ],
      "metadata": {
        "colab": {
          "base_uri": "https://localhost:8080/"
        },
        "id": "9Ad9Ync72xr7",
        "outputId": "4e4e3cb3-9750-4561-e788-82d57f811b52"
      },
      "execution_count": null,
      "outputs": [
        {
          "output_type": "stream",
          "name": "stderr",
          "text": [
            "<ipython-input-14-22d44ad78ca0>:4: DtypeWarning: Columns (7) have mixed types. Specify dtype option on import or set low_memory=False.\n",
            "  df = pd.read_csv('/content/sample_data/CrimeData.csv')\n"
          ]
        }
      ]
    },
    {
      "cell_type": "code",
      "source": [
        "df['Number of Offences'] = df['Number of Offences'].str.strip()\n",
        "# Optional: Save the cleaned data\n",
        "# df.to_csv('/content/sample_data/cleaned_CrimeData.csv', index=False)\n",
        "\n"
      ],
      "metadata": {
        "id": "yxlG73ec3MXr"
      },
      "execution_count": null,
      "outputs": []
    },
    {
      "cell_type": "code",
      "source": [
        "# Count Non-numeric Values\n",
        "non_numeric_before = df['Number of Offences'].apply(lambda x: isinstance(x, str))\n",
        "print(\"Number of non-numeric values before conversion:\", non_numeric_before.sum())\n",
        "print(\"Unique non-numeric values:\", df['Number of Offences'][non_numeric_before].unique())\n"
      ],
      "metadata": {
        "colab": {
          "base_uri": "https://localhost:8080/"
        },
        "id": "GxKsrK4E3-MS",
        "outputId": "6b31f679-e237-44ea-a297-2450f093fda2"
      },
      "execution_count": null,
      "outputs": [
        {
          "output_type": "stream",
          "name": "stdout",
          "text": [
            "Number of non-numeric values before conversion: 98777\n",
            "Unique non-numeric values: ['9' '5' '0' ... '8414' '5283' '1498']\n"
          ]
        }
      ]
    },
    {
      "cell_type": "code",
      "source": [
        "# Count NaN Values\n",
        "nan_count_before = df['Number of Offences'].isna().sum()\n",
        "print(\"Number of NaN values before conversion:\", nan_count_before)"
      ],
      "metadata": {
        "colab": {
          "base_uri": "https://localhost:8080/"
        },
        "id": "8V7D1x0X4Hbp",
        "outputId": "ea66fd8f-3016-4525-d470-005c6c932c5d"
      },
      "execution_count": null,
      "outputs": [
        {
          "output_type": "stream",
          "name": "stdout",
          "text": [
            "Number of NaN values before conversion: 0\n"
          ]
        }
      ]
    },
    {
      "cell_type": "code",
      "source": [
        "# Convert to Numeric and Count NaNs\n",
        "df['Number of Offences'] = pd.to_numeric(df['Number of Offences'], errors='coerce')\n",
        "nan_count_after = df['Number of Offences'].isna().sum()\n",
        "print(\"Number of NaN values after conversion:\", nan_count_after)\n"
      ],
      "metadata": {
        "colab": {
          "base_uri": "https://localhost:8080/"
        },
        "id": "naSYpZoW4k-R",
        "outputId": "a8d2b19a-916a-4d7a-eec0-a690376413f8"
      },
      "execution_count": null,
      "outputs": [
        {
          "output_type": "stream",
          "name": "stdout",
          "text": [
            "Number of NaN values after conversion: 1313\n"
          ]
        }
      ]
    },
    {
      "cell_type": "code",
      "source": [
        "has_commas = df['Number of Offences'].astype(str).str.contains(',')\n",
        "count_rows_with_commas = has_commas.sum()\n",
        "print(\"Number of rows with commas:\", count_rows_with_commas)\n"
      ],
      "metadata": {
        "colab": {
          "base_uri": "https://localhost:8080/"
        },
        "id": "jOKFj9fR4rJP",
        "outputId": "ef02f8d2-b349-4f17-f25f-5eb148c19584"
      },
      "execution_count": null,
      "outputs": [
        {
          "output_type": "stream",
          "name": "stdout",
          "text": [
            "Number of rows with commas: 0\n"
          ]
        }
      ]
    },
    {
      "cell_type": "code",
      "source": [
        "# Read the CSV file into a pandas DataFrame\n",
        "df = pd.read_csv('/content/sample_data/CrimeData.csv')\n",
        "\n",
        "# Convert the 'Number of Offences' column to a string type\n",
        "df['Number of Offences'] = df['Number of Offences'].astype(str)\n"
      ],
      "metadata": {
        "colab": {
          "base_uri": "https://localhost:8080/"
        },
        "id": "6AkwK2ZWA2I6",
        "outputId": "7b8504cd-1c0b-44cd-a31e-4a5849c3e7de"
      },
      "execution_count": null,
      "outputs": [
        {
          "output_type": "stream",
          "name": "stderr",
          "text": [
            "<ipython-input-25-235bd8f9a594>:2: DtypeWarning: Columns (7) have mixed types. Specify dtype option on import or set low_memory=False.\n",
            "  df = pd.read_csv('/content/sample_data/CrimeData.csv')\n"
          ]
        }
      ]
    },
    {
      "cell_type": "code",
      "source": [
        "# Remove commas from the 'Number of Offences' column\n",
        "df['Number of Offences'] = df['Number of Offences'].str.replace(',', '')"
      ],
      "metadata": {
        "id": "TkpATqPbBNpT"
      },
      "execution_count": null,
      "outputs": []
    },
    {
      "cell_type": "code",
      "source": [
        "# Strip leading and trailing spaces from the 'Number of Offences' column\n",
        "df['Number of Offences'] = df['Number of Offences'].str.strip()"
      ],
      "metadata": {
        "id": "A6tLCmSeBZS3"
      },
      "execution_count": null,
      "outputs": []
    },
    {
      "cell_type": "code",
      "source": [
        "# Convert the 'Number of Offences' column to a numeric type, coercing errors to NaN\n",
        "df['Number of Offences'] = pd.to_numeric(df['Number of Offences'], errors='coerce')"
      ],
      "metadata": {
        "id": "naD-sTO6Bd-G"
      },
      "execution_count": null,
      "outputs": []
    },
    {
      "cell_type": "code",
      "source": [
        "print(df.dtypes)"
      ],
      "metadata": {
        "colab": {
          "base_uri": "https://localhost:8080/"
        },
        "id": "U6_aarEVBle7",
        "outputId": "3c1e6331-79d2-42d9-d605-534b729d760e"
      },
      "execution_count": null,
      "outputs": [
        {
          "output_type": "stream",
          "name": "stdout",
          "text": [
            "Financial Year         object\n",
            "Financial Quarter       int64\n",
            "Force Name             object\n",
            "Offence Description    object\n",
            "Offence Group          object\n",
            "Offence Subgroup       object\n",
            "Offence Code           object\n",
            "Number of Offences      int64\n",
            "dtype: object\n"
          ]
        }
      ]
    },
    {
      "cell_type": "code",
      "source": [
        "# Check for NaN values in the 'Number of Offences' column after conversion\n",
        "nan_count_after = df['Number of Offences'].isna().sum()\n",
        "print(\"Number of NaN values before conversion:\", nan_count_after)\n"
      ],
      "metadata": {
        "colab": {
          "base_uri": "https://localhost:8080/"
        },
        "id": "oYvz4D3kBqpL",
        "outputId": "ad66e969-bfd7-44c7-c99d-a5cc1eb58899"
      },
      "execution_count": null,
      "outputs": [
        {
          "output_type": "stream",
          "name": "stdout",
          "text": [
            "Number of NaN values before conversion: 0\n"
          ]
        }
      ]
    },
    {
      "cell_type": "code",
      "source": [
        "\n",
        "# Count non-numeric values before conversion\n",
        "non_numeric_before = df['Number of Offences'].apply(lambda x: isinstance(x, str))\n",
        "print(\"Number of non-numeric values before conversion:\", non_numeric_before.sum())\n",
        "print(\"Unique non-numeric values:\", df['Number of Offences'][non_numeric_before].unique())\n",
        "\n"
      ],
      "metadata": {
        "colab": {
          "base_uri": "https://localhost:8080/"
        },
        "id": "JdBqww8lCNzU",
        "outputId": "2a507751-3201-4656-d177-9d2d0600f4e8"
      },
      "execution_count": null,
      "outputs": [
        {
          "output_type": "stream",
          "name": "stdout",
          "text": [
            "Number of non-numeric values before conversion: 0\n",
            "Unique non-numeric values: []\n"
          ]
        }
      ]
    },
    {
      "cell_type": "code",
      "source": [
        "\n",
        "# Count negative values in the 'Number of Offences' column\n",
        "negative_count = (df['Number of Offences'] < 0).sum()\n",
        "print(\"Number of negative values in 'Number of Offences':\", negative_count)"
      ],
      "metadata": {
        "colab": {
          "base_uri": "https://localhost:8080/"
        },
        "id": "ARGzqnSfCplr",
        "outputId": "f3b018f2-3878-4a84-8093-3e3ecfe7ef96"
      },
      "execution_count": null,
      "outputs": [
        {
          "output_type": "stream",
          "name": "stdout",
          "text": [
            "Number of negative values in 'Number of Offences': 0\n"
          ]
        }
      ]
    },
    {
      "cell_type": "code",
      "source": [
        "non_null_counts = df.notna().sum()\n",
        "print(non_null_counts)"
      ],
      "metadata": {
        "colab": {
          "base_uri": "https://localhost:8080/"
        },
        "id": "xu6vq82bC5K5",
        "outputId": "6cf96da0-c33c-4547-8ff3-5a9e51793f37"
      },
      "execution_count": null,
      "outputs": [
        {
          "output_type": "stream",
          "name": "stdout",
          "text": [
            "Financial Year         98777\n",
            "Financial Quarter      98777\n",
            "Force Name             98777\n",
            "Offence Description    98777\n",
            "Offence Group          98777\n",
            "Offence Subgroup       98777\n",
            "Offence Code           98777\n",
            "Number of Offences     98777\n",
            "dtype: int64\n"
          ]
        }
      ]
    },
    {
      "cell_type": "code",
      "source": [
        "df.to_csv('/content/sample_data/cleaned_data.csv', index=False)"
      ],
      "metadata": {
        "id": "i0hwrFblDL0v"
      },
      "execution_count": null,
      "outputs": []
    }
  ]
}